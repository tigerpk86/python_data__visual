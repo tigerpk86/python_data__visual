{
 "cells": [
  {
   "cell_type": "code",
   "execution_count": 1,
   "metadata": {},
   "outputs": [
    {
     "ename": "ModuleNotFoundError",
     "evalue": "No module named 'korea_showMap'",
     "output_type": "error",
     "traceback": [
      "\u001b[1;31m---------------------------------------------------------------------------\u001b[0m",
      "\u001b[1;31mModuleNotFoundError\u001b[0m                       Traceback (most recent call last)",
      "\u001b[1;32m<ipython-input-1-d1b558ef907b>\u001b[0m in \u001b[0;36m<module>\u001b[1;34m()\u001b[0m\n\u001b[0;32m     17\u001b[0m \u001b[1;32mimport\u001b[0m \u001b[0mos\u001b[0m\u001b[1;33m\u001b[0m\u001b[0m\n\u001b[0;32m     18\u001b[0m \u001b[1;32mimport\u001b[0m \u001b[0mpandas\u001b[0m \u001b[1;32mas\u001b[0m \u001b[0mpd\u001b[0m\u001b[1;33m\u001b[0m\u001b[0m\n\u001b[1;32m---> 19\u001b[1;33m \u001b[1;32mimport\u001b[0m \u001b[0mkorea_showMap\u001b[0m\u001b[1;33m\u001b[0m\u001b[0m\n\u001b[0m\u001b[0;32m     20\u001b[0m \u001b[1;33m\u001b[0m\u001b[0m\n\u001b[0;32m     21\u001b[0m \u001b[1;31m#######################################################################\u001b[0m\u001b[1;33m\u001b[0m\u001b[1;33m\u001b[0m\u001b[0m\n",
      "\u001b[1;31mModuleNotFoundError\u001b[0m: No module named 'korea_showMap'"
     ]
    }
   ],
   "source": []
  },
  {
   "cell_type": "code",
   "execution_count": 3,
   "metadata": {
    "collapsed": true
   },
   "outputs": [],
   "source": [
    "import pandas as pd\n"
   ]
  },
  {
   "cell_type": "code",
   "execution_count": 11,
   "metadata": {
    "collapsed": true
   },
   "outputs": [],
   "source": [
    "datafiles = [r\"C:\\Users\\505\\Downloads\\상가업소_201609\\상가업소_201609_01.csv\",\n",
    "r\"C:\\Users\\505\\Downloads\\상가업소_201609\\상가업소_201609_02.csv\",\n",
    "r\"C:\\Users\\505\\Downloads\\상가업소_201609\\상가업소_201609_03.csv\",\n",
    "r\"C:\\Users\\505\\Downloads\\상가업소_201609\\상가업소_201609_04.csv\"]\n",
    "\n",
    "df_list = []\n",
    "for datafile in datafiles:\n",
    "    df = pd.read_csv(datafile, engine=\"python\")\n",
    "    dfa = df[[\"상호명\", \"시도명\", \"시군구명\"]][df.상호명.notnull() & df.상호명.str.contains(\"치킨\")]\n",
    "    df_list.append(dfa)\n",
    "dfa = pd.concat(df_list)\n",
    "dfb = dfa.groupby([\"시도명\", \"시군구명\"]).count()\n",
    "dfb = dfb.reset_index()\n",
    "dfb.to_excel(\"korea_blockmap.xlsx\")\n"
   ]
  },
  {
   "cell_type": "code",
   "execution_count": 21,
   "metadata": {},
   "outputs": [
    {
     "name": "stdout",
     "output_type": "stream",
     "text": [
      "    Unnamed: 0     인구수 shortName  x  y      면적 광역시도 행정구역\n",
      "29          29  911628        성남  7  8  141.82  경기도  성남시\n",
      "    시도명     시군구명  상호명 시군구명_정제\n",
      "33  경기도  성남시 분당구  224     성남시\n",
      "34  경기도  성남시 수정구  126     성남시\n",
      "35  경기도  성남시 중원구  190     성남시\n",
      "    시도명 시군구명_정제  상호명\n",
      "29  경기도     성남시  540\n"
     ]
    }
   ],
   "source": [
    "csv = r\"korean_map\\data_draw_korea.csv\"\n",
    "m = pd.read_csv(csv, encoding=\"utf-8\", engine=\"python\")\n",
    "print(m[m.행정구역.str.contains(\"성남\")])\n",
    "print(dfb[dfb.시군구명.str.contains(\"성남\")])\n",
    "\n",
    "dfb[\"시군구명_정제\"] = dfb.시군구명.agg(lambda x: x.split(\" \")[0])\n",
    "dfc = dfb.groupby(['시도명', \"시군구명_정제\"]).sum();\n",
    "dfc = dfc.reset_index()\n",
    "print(dfc[dfc.시군구명_정제.str.contains(\"성남\")])\n",
    "\n",
    "\n"
   ]
  },
  {
   "cell_type": "code",
   "execution_count": 23,
   "metadata": {},
   "outputs": [],
   "source": [
    "yy = dfb.merge(m,  how='outer', left_on=['시도명', '시군구명'], right_on=['광역시도', '행정구역'])\n"
   ]
  },
  {
   "cell_type": "code",
   "execution_count": 26,
   "metadata": {},
   "outputs": [],
   "source": [
    "yy.시도명.isnull();\n"
   ]
  },
  {
   "cell_type": "code",
   "execution_count": null,
   "metadata": {
    "collapsed": true
   },
   "outputs": [],
   "source": []
  }
 ],
 "metadata": {
  "kernelspec": {
   "display_name": "Python 3",
   "language": "python",
   "name": "python3"
  },
  "language_info": {
   "codemirror_mode": {
    "name": "ipython",
    "version": 3
   },
   "file_extension": ".py",
   "mimetype": "text/x-python",
   "name": "python",
   "nbconvert_exporter": "python",
   "pygments_lexer": "ipython3",
   "version": "3.6.3"
  }
 },
 "nbformat": 4,
 "nbformat_minor": 2
}
