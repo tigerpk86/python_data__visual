{
 "cells": [
  {
   "cell_type": "code",
   "execution_count": 9,
   "metadata": {},
   "outputs": [
    {
     "data": {
      "text/html": [
       "<div>\n",
       "<style>\n",
       "    .dataframe thead tr:only-child th {\n",
       "        text-align: right;\n",
       "    }\n",
       "\n",
       "    .dataframe thead th {\n",
       "        text-align: left;\n",
       "    }\n",
       "\n",
       "    .dataframe tbody tr th {\n",
       "        vertical-align: top;\n",
       "    }\n",
       "</style>\n",
       "<table border=\"1\" class=\"dataframe\">\n",
       "  <thead>\n",
       "    <tr style=\"text-align: right;\">\n",
       "      <th></th>\n",
       "      <th>Unnamed: 0</th>\n",
       "      <th>시도명</th>\n",
       "      <th>시군구명</th>\n",
       "      <th>상호명</th>\n",
       "      <th>경도</th>\n",
       "      <th>위도</th>\n",
       "    </tr>\n",
       "  </thead>\n",
       "  <tbody>\n",
       "    <tr>\n",
       "      <th>0</th>\n",
       "      <td>2454</td>\n",
       "      <td>서울특별시</td>\n",
       "      <td>종로구</td>\n",
       "      <td>스타벅스종로3가점</td>\n",
       "      <td>126.990207</td>\n",
       "      <td>37.570585</td>\n",
       "    </tr>\n",
       "    <tr>\n",
       "      <th>1</th>\n",
       "      <td>17837</td>\n",
       "      <td>서울특별시</td>\n",
       "      <td>강남구</td>\n",
       "      <td>스타벅스뱅뱅사거리</td>\n",
       "      <td>127.032473</td>\n",
       "      <td>37.488556</td>\n",
       "    </tr>\n",
       "    <tr>\n",
       "      <th>2</th>\n",
       "      <td>18523</td>\n",
       "      <td>서울특별시</td>\n",
       "      <td>영등포구</td>\n",
       "      <td>스타벅스커피여의도IFC1F</td>\n",
       "      <td>126.924863</td>\n",
       "      <td>37.525172</td>\n",
       "    </tr>\n",
       "    <tr>\n",
       "      <th>3</th>\n",
       "      <td>18527</td>\n",
       "      <td>서울특별시</td>\n",
       "      <td>강남구</td>\n",
       "      <td>스타벅스</td>\n",
       "      <td>127.063878</td>\n",
       "      <td>37.510038</td>\n",
       "    </tr>\n",
       "    <tr>\n",
       "      <th>4</th>\n",
       "      <td>19618</td>\n",
       "      <td>서울특별시</td>\n",
       "      <td>관악구</td>\n",
       "      <td>스타벅스</td>\n",
       "      <td>126.930216</td>\n",
       "      <td>37.483845</td>\n",
       "    </tr>\n",
       "  </tbody>\n",
       "</table>\n",
       "</div>"
      ],
      "text/plain": [
       "   Unnamed: 0    시도명  시군구명             상호명          경도         위도\n",
       "0        2454  서울특별시   종로구       스타벅스종로3가점  126.990207  37.570585\n",
       "1       17837  서울특별시   강남구       스타벅스뱅뱅사거리  127.032473  37.488556\n",
       "2       18523  서울특별시  영등포구  스타벅스커피여의도IFC1F  126.924863  37.525172\n",
       "3       18527  서울특별시   강남구            스타벅스  127.063878  37.510038\n",
       "4       19618  서울특별시   관악구            스타벅스  126.930216  37.483845"
      ]
     },
     "execution_count": 9,
     "metadata": {},
     "output_type": "execute_result"
    }
   ],
   "source": [
    "import pandas as pd\n",
    "import folium\n",
    "\n",
    "file_name = \"C:\\\\git\\\\python_data__visual\\\\final_projet\\\\result_location.csv\"\n",
    "dfa = pd.read_csv(file_name, engine=\"python\")\n",
    "dfa.head()"
   ]
  },
  {
   "cell_type": "code",
   "execution_count": 10,
   "metadata": {},
   "outputs": [],
   "source": [
    "map_1 = folium.Map(location=[37.33, 126.58], zoom_start=8)"
   ]
  },
  {
   "cell_type": "code",
   "execution_count": 15,
   "metadata": {},
   "outputs": [],
   "source": [
    "for i in range(len(dfa)) :\n",
    "    cur = dfa.iloc[i]\n",
    "    name = cur.상호명\n",
    "    latitude = cur.위도\n",
    "    longtude = cur.경도\n",
    "    marker = folium.Marker([latitude, longtude], popup=name, icon=folium.Icon(icon='spoon', prefix='fa', color='green'))\n",
    "    marker.add_to(map_1)\n",
    "map_1.save(\"스타벅스.html\")"
   ]
  },
  {
   "cell_type": "code",
   "execution_count": 16,
   "metadata": {
    "collapsed": true
   },
   "outputs": [],
   "source": [
    "!스타벅스.html"
   ]
  },
  {
   "cell_type": "code",
   "execution_count": null,
   "metadata": {
    "collapsed": true
   },
   "outputs": [],
   "source": []
  }
 ],
 "metadata": {
  "kernelspec": {
   "display_name": "Python 3",
   "language": "python",
   "name": "python3"
  },
  "language_info": {
   "codemirror_mode": {
    "name": "ipython",
    "version": 3
   },
   "file_extension": ".py",
   "mimetype": "text/x-python",
   "name": "python",
   "nbconvert_exporter": "python",
   "pygments_lexer": "ipython3",
   "version": "3.6.3"
  }
 },
 "nbformat": 4,
 "nbformat_minor": 2
}
