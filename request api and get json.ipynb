{
 "cells": [
  {
   "cell_type": "code",
   "execution_count": 7,
   "metadata": {
    "collapsed": true
   },
   "outputs": [],
   "source": [
    "import folium as fl\n",
    "import pandas as pd\n",
    "\n",
    "\n",
    "\n",
    "url = \"http://whois.kisa.or.kr/openapi/whois.jsp?query=202.30.50.51&key=2017112121575473818443&answer=json\"\n"
   ]
  },
  {
   "cell_type": "code",
   "execution_count": 13,
   "metadata": {},
   "outputs": [],
   "source": [
    "data = pd.read_csv(url)"
   ]
  },
  {
   "cell_type": "code",
   "execution_count": 24,
   "metadata": {},
   "outputs": [
    {
     "ename": "AttributeError",
     "evalue": "'str' object has no attribute 'read'",
     "output_type": "error",
     "traceback": [
      "\u001b[1;31m---------------------------------------------------------------------------\u001b[0m",
      "\u001b[1;31mAttributeError\u001b[0m                            Traceback (most recent call last)",
      "\u001b[1;32m<ipython-input-24-406a54254f69>\u001b[0m in \u001b[0;36m<module>\u001b[1;34m()\u001b[0m\n\u001b[0;32m     12\u001b[0m     \u001b[0ma\u001b[0m \u001b[1;33m=\u001b[0m \u001b[0mresponse_body\u001b[0m\u001b[1;33m.\u001b[0m\u001b[0mdecode\u001b[0m\u001b[1;33m(\u001b[0m\u001b[1;34m'utf-8'\u001b[0m\u001b[1;33m)\u001b[0m\u001b[1;33m\u001b[0m\u001b[0m\n\u001b[0;32m     13\u001b[0m \u001b[1;33m\u001b[0m\u001b[0m\n\u001b[1;32m---> 14\u001b[1;33m \u001b[0mjj\u001b[0m \u001b[1;33m=\u001b[0m \u001b[0mjson\u001b[0m\u001b[1;33m.\u001b[0m\u001b[0mload\u001b[0m\u001b[1;33m(\u001b[0m\u001b[0ma\u001b[0m\u001b[1;33m)\u001b[0m\u001b[1;33m\u001b[0m\u001b[0m\n\u001b[0m",
      "\u001b[1;32mC:\\ProgramData\\Anaconda3\\lib\\json\\__init__.py\u001b[0m in \u001b[0;36mload\u001b[1;34m(fp, cls, object_hook, parse_float, parse_int, parse_constant, object_pairs_hook, **kw)\u001b[0m\n\u001b[0;32m    294\u001b[0m \u001b[1;33m\u001b[0m\u001b[0m\n\u001b[0;32m    295\u001b[0m     \"\"\"\n\u001b[1;32m--> 296\u001b[1;33m     return loads(fp.read(),\n\u001b[0m\u001b[0;32m    297\u001b[0m         \u001b[0mcls\u001b[0m\u001b[1;33m=\u001b[0m\u001b[0mcls\u001b[0m\u001b[1;33m,\u001b[0m \u001b[0mobject_hook\u001b[0m\u001b[1;33m=\u001b[0m\u001b[0mobject_hook\u001b[0m\u001b[1;33m,\u001b[0m\u001b[1;33m\u001b[0m\u001b[0m\n\u001b[0;32m    298\u001b[0m         \u001b[0mparse_float\u001b[0m\u001b[1;33m=\u001b[0m\u001b[0mparse_float\u001b[0m\u001b[1;33m,\u001b[0m \u001b[0mparse_int\u001b[0m\u001b[1;33m=\u001b[0m\u001b[0mparse_int\u001b[0m\u001b[1;33m,\u001b[0m\u001b[1;33m\u001b[0m\u001b[0m\n",
      "\u001b[1;31mAttributeError\u001b[0m: 'str' object has no attribute 'read'"
     ]
    }
   ],
   "source": [
    "import folium as fl\n",
    "import pandas as pd\n",
    "import urllib\n",
    "import json\n",
    "url = \"http://whois.kisa.or.kr/openapi/whois.jsp?query=202.30.50.51&key=2017112121575473818443&answer=json\"\n",
    "request = urllib.request.Request(url)\n",
    "response = urllib.request.urlopen(request)\n",
    "rescode = response.getcode()\n",
    "a = \"\"\n",
    "if (rescode == 200):\n",
    "    response_body = response.read()\n",
    "    a = response_body.decode('utf-8')\n",
    "\n",
    "\n"
   ]
  },
  {
   "cell_type": "code",
   "execution_count": 26,
   "metadata": {},
   "outputs": [
    {
     "data": {
      "text/plain": [
       "'{\"whois\":{\"query\":\"202.30.50.51\",\"queryType\":\"IPv4\",\"registry\":\"KRNIC\",\"countryCode\":\"KR\",\"korean\":{\"PI\":{\"netinfo\":{\"range\":\"202.30.50.0 - 202.30.51.255\",\"prefix\":\"/23\",\"servName\":\"KRNIC-NET\",\"orgName\":\"한국인터넷진흥원\",\"orgID\":\"ORG103657\",\"addr\":\"전라남도 나주시 진흥길\",\"zipCode\":\"58324\",\"regDate\":\"19931013\"},\"techContact\":{\"name\":\"IP주소 담당자\",\"phone\":\"+82-2-405-5118\",\"email\":\"hostmaster@nic.or.kr\"}},\"user\":{\"netinfo\":{\"range\":\"202.30.50.0 - 202.30.51.255\",\"prefix\":\"/23\",\"netType\":\"CUSTOMER\",\"orgName\":\"한국인터넷진흥원\",\"orgID\":\"ORG794200\",\"addr\":\"서울시 송파구 가락동\",\"zipCode\":\"138-160\",\"regDate\":\"20060704\"},\"techContact\":{\"name\":\"IP주소 담당자\",\"phone\":\"+82-2-405-5118\",\"email\":\"hostmaster@kisa.or.kr\"}}},\"english\":{\"PI\":{\"netinfo\":{\"range\":\"202.30.50.0 - 202.30.51.255\",\"prefix\":\"/23\",\"servName\":\"KRNIC-NET\",\"orgName\":\"Korea Internet Security Agency\",\"orgID\":\"ORG103657\",\"addr\":\"Jeollanam-do Naju-si Jinheung-gil\",\"zipCode\":\"58324\",\"regDate\":\"19931013\"},\"techContact\":{\"name\":\"IP Manager\",\"phone\":\"+82-2-405-5118\",\"email\":\"hostmaster@nic.or.kr\"}},\"user\":{\"netinfo\":{\"range\":\"202.30.50.0 - 202.30.51.255\",\"prefix\":\"/23\",\"netType\":\"CUSTOMER\",\"orgName\":\"Korea Information Security Agency\",\"orgID\":\"ORG794200\",\"addr\":\"Garak-dong, Songpa-gu, Seoul\",\"zipCode\":\"138-160\",\"regDate\":\"20060704\"},\"techContact\":{\"name\":\"IP Manager\",\"phone\":\"+82-2-405-5118\",\"email\":\"hostmaster@kisa.or.kr\"}}}}}\\n'"
      ]
     },
     "execution_count": 26,
     "metadata": {},
     "output_type": "execute_result"
    }
   ],
   "source": [
    "a"
   ]
  },
  {
   "cell_type": "code",
   "execution_count": null,
   "metadata": {
    "collapsed": true
   },
   "outputs": [],
   "source": []
  }
 ],
 "metadata": {
  "kernelspec": {
   "display_name": "Python 3",
   "language": "python",
   "name": "python3"
  },
  "language_info": {
   "codemirror_mode": {
    "name": "ipython",
    "version": 3
   },
   "file_extension": ".py",
   "mimetype": "text/x-python",
   "name": "python",
   "nbconvert_exporter": "python",
   "pygments_lexer": "ipython3",
   "version": "3.6.3"
  }
 },
 "nbformat": 4,
 "nbformat_minor": 2
}
