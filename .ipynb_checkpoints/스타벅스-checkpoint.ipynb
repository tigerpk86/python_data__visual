{
 "cells": [
  {
   "cell_type": "code",
   "execution_count": 38,
   "metadata": {
    "collapsed": true
   },
   "outputs": [],
   "source": [
    "\n",
    "file = u\"C:\\\\Users\\\\505\\\\Downloads\\\\상가업소_201609\\\\상가업소_201609_%s.csv\"\n",
    "\n",
    "pds = []\n",
    "for i in range(1, 4):\n",
    "    one_file = file % str(i).zfill(2)\n",
    "    x = pd.read_csv(one_file, engine=\"python\", nrows=30)\n",
    "    pds.append(x)\n",
    "df = pd.concat(pds)\n",
    "\n"
   ]
  },
  {
   "cell_type": "code",
   "execution_count": 42,
   "metadata": {},
   "outputs": [],
   "source": [
    "starbucks = df[df.상호명.notnull() & df.상호명.str.contains(\"스타벅스\")]\n",
    "starbucks = starbucks[[\"시도명\"]]\n",
    "starbucks[\"스타벅스\"] = \"스타벅스\"\n",
    "starbucks = starbucks.groupby([\"시도명\"]).count()\n",
    "starbucks = starbucks.reset_index()\n",
    "\n",
    "\n",
    "hollis = df[df.상호명.notnull() & df.상호명.str.contains(\"할리스\")]\n",
    "hollis = hollis[[\"시도명\"]]\n",
    "hollis[\"할리스\"] = \"할리스\"\n",
    "hollis = hollis.groupby([\"시도명\"]).count()\n",
    "hollis = hollis.reset_index()\n",
    "\n",
    "df2 = starbucks.merge(hollis, on=['시도명'])\n",
    "df2.to_excel(\"result.xlsx\")\n"
   ]
  },
  {
   "cell_type": "code",
   "execution_count": 43,
   "metadata": {},
   "outputs": [
    {
     "data": {
      "text/html": [
       "<div>\n",
       "<style>\n",
       "    .dataframe thead tr:only-child th {\n",
       "        text-align: right;\n",
       "    }\n",
       "\n",
       "    .dataframe thead th {\n",
       "        text-align: left;\n",
       "    }\n",
       "\n",
       "    .dataframe tbody tr th {\n",
       "        vertical-align: top;\n",
       "    }\n",
       "</style>\n",
       "<table border=\"1\" class=\"dataframe\">\n",
       "  <thead>\n",
       "    <tr style=\"text-align: right;\">\n",
       "      <th></th>\n",
       "      <th>스타벅스</th>\n",
       "      <th>시도명</th>\n",
       "      <th>할리스</th>\n",
       "    </tr>\n",
       "  </thead>\n",
       "  <tbody>\n",
       "  </tbody>\n",
       "</table>\n",
       "</div>"
      ],
      "text/plain": [
       "Empty DataFrame\n",
       "Columns: [스타벅스, 시도명, 할리스]\n",
       "Index: []"
      ]
     },
     "execution_count": 43,
     "metadata": {},
     "output_type": "execute_result"
    }
   ],
   "source": [
    "df2"
   ]
  },
  {
   "cell_type": "code",
   "execution_count": 30,
   "metadata": {},
   "outputs": [
    {
     "name": "stdout",
     "output_type": "stream",
     "text": [
      "      시도명  시군구명  스타벅스\n",
      "0   부산광역시   금정구     1\n",
      "1   부산광역시   기장군     1\n",
      "2   부산광역시    남구     1\n",
      "3   부산광역시    동구     1\n",
      "4   부산광역시   동래구     1\n",
      "5   부산광역시  부산진구     1\n",
      "6   부산광역시    북구     1\n",
      "7   부산광역시   사상구     1\n",
      "8   부산광역시   사하구     1\n",
      "9   부산광역시    서구     1\n",
      "10  부산광역시   수영구     1\n",
      "11  부산광역시   연제구     1\n",
      "12  부산광역시    중구     1\n",
      "13  부산광역시  해운대구     1\n",
      "14  서울특별시   강남구     1\n",
      "15  서울특별시   강동구     1\n",
      "16  서울특별시   강북구     1\n",
      "17  서울특별시   강서구     1\n",
      "18  서울특별시   관악구     1\n",
      "19  서울특별시   광진구     1\n",
      "20  서울특별시   구로구     1\n",
      "21  서울특별시   금천구     1\n",
      "22  서울특별시   노원구     1\n",
      "23  서울특별시   도봉구     1\n",
      "24  서울특별시  동대문구     1\n",
      "25  서울특별시   동작구     1\n",
      "26  서울특별시   마포구     1\n",
      "27  서울특별시  서대문구     1\n",
      "28  서울특별시   서초구     1\n",
      "29  서울특별시   성동구     1\n",
      "30  서울특별시   성북구     1\n",
      "31  서울특별시   송파구     1\n",
      "32  서울특별시   양천구     1\n",
      "33  서울특별시  영등포구     1\n",
      "34  서울특별시   용산구     1\n",
      "35  서울특별시   은평구     1\n",
      "36  서울특별시   종로구     1\n",
      "37  서울특별시    중구     1\n",
      "38  서울특별시   중랑구     1\n"
     ]
    }
   ],
   "source": []
  },
  {
   "cell_type": "code",
   "execution_count": 23,
   "metadata": {},
   "outputs": [],
   "source": [
    "hollis = df[df.상호명.notnull() & df.상호명.str.contains(\"할리스\")]"
   ]
  },
  {
   "cell_type": "code",
   "execution_count": 25,
   "metadata": {},
   "outputs": [],
   "source": [
    "hollis = hollis[[\"시도명\", \"시군구명\"]]"
   ]
  },
  {
   "cell_type": "code",
   "execution_count": null,
   "metadata": {
    "collapsed": true
   },
   "outputs": [],
   "source": [
    "starbucks.merge(how=)"
   ]
  }
 ],
 "metadata": {
  "kernelspec": {
   "display_name": "Python 3",
   "language": "python",
   "name": "python3"
  },
  "language_info": {
   "codemirror_mode": {
    "name": "ipython",
    "version": 3
   },
   "file_extension": ".py",
   "mimetype": "text/x-python",
   "name": "python",
   "nbconvert_exporter": "python",
   "pygments_lexer": "ipython3",
   "version": "3.6.3"
  }
 },
 "nbformat": 4,
 "nbformat_minor": 2
}
