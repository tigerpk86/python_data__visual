{
 "cells": [
  {
   "cell_type": "code",
   "execution_count": 7,
   "metadata": {
    "collapsed": true
   },
   "outputs": [],
   "source": [
    "import folium as fl"
   ]
  },
  {
   "cell_type": "code",
   "execution_count": 8,
   "metadata": {},
   "outputs": [],
   "source": [
    "my_map = fl.Map(location=[37.5666, 126.97])"
   ]
  },
  {
   "cell_type": "code",
   "execution_count": 9,
   "metadata": {
    "collapsed": true
   },
   "outputs": [],
   "source": [
    "x = fl.Marker([37.5666, 126.95000], popup=\"한글\")\n",
    "x.add_to(my_map)\n",
    "my_map.save(\"map_output_01.html\")"
   ]
  },
  {
   "cell_type": "code",
   "execution_count": 10,
   "metadata": {},
   "outputs": [],
   "source": [
    "import pandas as pd\n",
    "import numpy as np\n",
    "\n",
    "\n",
    "def findCode(x) :\n",
    "    if x.find(\"롯데리아\") :\n",
    "       return \"롯데리아\"\n",
    "    elif x.find(\"맥도날드\") :\n",
    "        return \"맥도날드\"\n",
    "    return \"No\"\n",
    "\n",
    "\n",
    "\n",
    "datafile=\"C:\\\\Users\\\\505\\\\Downloads\\\\상가업소_201609\\\\상가업소_201609_01.csv\"\n",
    "df = pd.read_csv(datafile, engine=\"python\")\n",
    "hamberg = df[df.상호명.notnull() & (df.상호명.str.contains(\"맥도날드\") | df.상호명.str.contains(\"롯데리아\"))]\n",
    "\n",
    "\n"
   ]
  },
  {
   "cell_type": "code",
   "execution_count": 11,
   "metadata": {
    "collapsed": true
   },
   "outputs": [],
   "source": [
    "ham_loc = hamberg[[\"상호명\",\"위도\", \"경도\"]]"
   ]
  },
  {
   "cell_type": "code",
   "execution_count": 13,
   "metadata": {},
   "outputs": [],
   "source": [
    "def isMcDonald(x) :\n",
    "    if x.find(\"맥도날드\") :\n",
    "        return True\n",
    "    return False\n",
    "\n",
    "for idx in range(len(ham_loc)):\n",
    "    latitude = ham_loc.iloc[idx].위도\n",
    "    longitude = ham_loc.iloc[idx].경도 \n",
    "    brand_name = ham_loc.iloc[idx].상호명\n",
    "    icon_color = \"blue\"\n",
    "    if isMcDonald(brand_name) :\n",
    "        icon_color = \"red\"\n",
    "        \n",
    "    x = fl.Marker([latitude, longitude], popup=brand_name, icon=fl.Icon(color=icon_color))\n",
    "    x.add_to(my_map)\n",
    "my_map.save(\"map_output_03.html\")      \n"
   ]
  },
  {
   "cell_type": "code",
   "execution_count": null,
   "metadata": {},
   "outputs": [],
   "source": []
  },
  {
   "cell_type": "code",
   "execution_count": null,
   "metadata": {
    "collapsed": true
   },
   "outputs": [],
   "source": []
  }
 ],
 "metadata": {
  "kernelspec": {
   "display_name": "Python 3",
   "language": "python",
   "name": "python3"
  },
  "language_info": {
   "codemirror_mode": {
    "name": "ipython",
    "version": 3
   },
   "file_extension": ".py",
   "mimetype": "text/x-python",
   "name": "python",
   "nbconvert_exporter": "python",
   "pygments_lexer": "ipython3",
   "version": "3.6.3"
  }
 },
 "nbformat": 4,
 "nbformat_minor": 2
}
